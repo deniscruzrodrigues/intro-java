{
 "cells": [
  {
   "cell_type": "markdown",
   "id": "2ed551d3",
   "metadata": {},
   "source": [
    "# Import Required Libraries\n",
    "Explain how to set up a Java environment and import necessary libraries if needed."
   ]
  },
  {
   "cell_type": "markdown",
   "id": "ad409a51",
   "metadata": {},
   "source": [
    "# Setting Up Java Environment\n",
    "To run Java programs, ensure you have the Java Development Kit (JDK) installed. You can download it from the official Oracle website or use OpenJDK. Set up your environment variables (e.g., `JAVA_HOME`) and ensure `javac` and `java` commands are accessible from the terminal."
   ]
  },
  {
   "cell_type": "markdown",
   "id": "9c0be277",
   "metadata": {},
   "source": [
    "# Hello World Example\n",
    "Provide a simple 'Hello World' program in Java."
   ]
  },
  {
   "cell_type": "code",
   "execution_count": null,
   "id": "aa34a33b",
   "metadata": {
    "vscode": {
     "languageId": "java"
    }
   },
   "outputs": [],
   "source": [
    "public class HelloWorld {\n",
    "    public static void main(String[] args) {\n",
    "        System.out.println(\"Hello, World!\");\n",
    "    }\n",
    "}"
   ]
  },
  {
   "cell_type": "markdown",
   "id": "7d4412a1",
   "metadata": {},
   "source": [
    "# Variables and Data Types\n",
    "Demonstrate the declaration and initialization of variables with different data types."
   ]
  },
  {
   "cell_type": "code",
   "execution_count": null,
   "id": "05804e45",
   "metadata": {
    "vscode": {
     "languageId": "java"
    }
   },
   "outputs": [],
   "source": [
    "public class VariablesExample {\n",
    "    public static void main(String[] args) {\n",
    "        int age = 25;\n",
    "        double salary = 55000.50;\n",
    "        char grade = 'A';\n",
    "        boolean isEmployed = true;\n",
    "        String name = \"John Doe\";\n",
    "\n",
    "        System.out.println(\"Name: \" + name);\n",
    "        System.out.println(\"Age: \" + age);\n",
    "        System.out.println(\"Salary: \" + salary);\n",
    "        System.out.println(\"Grade: \" + grade);\n",
    "        System.out.println(\"Employed: \" + isEmployed);\n",
    "    }\n",
    "}"
   ]
  },
  {
   "cell_type": "markdown",
   "id": "77fc4b80",
   "metadata": {},
   "source": [
    "# Control Flow Statements\n",
    "Show examples of if-else, switch-case, and ternary operators."
   ]
  },
  {
   "cell_type": "code",
   "execution_count": null,
   "id": "246a7bb7",
   "metadata": {
    "vscode": {
     "languageId": "java"
    }
   },
   "outputs": [],
   "source": [
    "public class ControlFlowExample {\n",
    "    public static void main(String[] args) {\n",
    "        int number = 10;\n",
    "\n",
    "        // if-else example\n",
    "        if (number > 0) {\n",
    "            System.out.println(\"Positive number\");\n",
    "        } else {\n",
    "            System.out.println(\"Non-positive number\");\n",
    "        }\n",
    "\n",
    "        // switch-case example\n",
    "        switch (number) {\n",
    "            case 10:\n",
    "                System.out.println(\"Number is 10\");\n",
    "                break;\n",
    "            case 20:\n",
    "                System.out.println(\"Number is 20\");\n",
    "                break;\n",
    "            default:\n",
    "                System.out.println(\"Number is neither 10 nor 20\");\n",
    "        }\n",
    "\n",
    "        // ternary operator example\n",
    "        String result = (number > 0) ? \"Positive\" : \"Non-positive\";\n",
    "        System.out.println(\"Result: \" + result);\n",
    "    }\n",
    "}"
   ]
  },
  {
   "cell_type": "markdown",
   "id": "bcdfbdb3",
   "metadata": {},
   "source": [
    "# Loops\n",
    "Provide examples of for, while, and do-while loops."
   ]
  },
  {
   "cell_type": "code",
   "execution_count": null,
   "id": "bdc7ffeb",
   "metadata": {
    "vscode": {
     "languageId": "java"
    }
   },
   "outputs": [],
   "source": [
    "public class LoopsExample {\n",
    "    public static void main(String[] args) {\n",
    "        // for loop\n",
    "        for (int i = 1; i <= 5; i++) {\n",
    "            System.out.println(\"For loop iteration: \" + i);\n",
    "        }\n",
    "\n",
    "        // while loop\n",
    "        int count = 1;\n",
    "        while (count <= 5) {\n",
    "            System.out.println(\"While loop iteration: \" + count);\n",
    "            count++;\n",
    "        }\n",
    "\n",
    "        // do-while loop\n",
    "        int num = 1;\n",
    "        do {\n",
    "            System.out.println(\"Do-while loop iteration: \" + num);\n",
    "            num++;\n",
    "        } while (num <= 5);\n",
    "    }\n",
    "}"
   ]
  },
  {
   "cell_type": "markdown",
   "id": "17ad15f1",
   "metadata": {},
   "source": [
    "# Arrays\n",
    "Demonstrate how to declare, initialize, and iterate through arrays."
   ]
  },
  {
   "cell_type": "code",
   "execution_count": null,
   "id": "1211ba86",
   "metadata": {
    "vscode": {
     "languageId": "java"
    }
   },
   "outputs": [],
   "source": [
    "public class ArraysExample {\n",
    "    public static void main(String[] args) {\n",
    "        // Declare and initialize an array\n",
    "        int[] numbers = {1, 2, 3, 4, 5};\n",
    "\n",
    "        // Iterate through the array\n",
    "        for (int number : numbers) {\n",
    "            System.out.println(\"Number: \" + number);\n",
    "        }\n",
    "    }\n",
    "}"
   ]
  },
  {
   "cell_type": "markdown",
   "id": "9102eed9",
   "metadata": {},
   "source": [
    "# Methods\n",
    "Show how to define and call methods, including passing parameters and returning values."
   ]
  },
  {
   "cell_type": "code",
   "execution_count": null,
   "id": "2405775c",
   "metadata": {
    "vscode": {
     "languageId": "java"
    }
   },
   "outputs": [],
   "source": [
    "public class MethodsExample {\n",
    "    public static void main(String[] args) {\n",
    "        int result = addNumbers(5, 10);\n",
    "        System.out.println(\"Sum: \" + result);\n",
    "    }\n",
    "\n",
    "    // Method to add two numbers\n",
    "    public static int addNumbers(int a, int b) {\n",
    "        return a + b;\n",
    "    }\n",
    "}"
   ]
  }
 ],
 "metadata": {
  "language_info": {
   "name": "python"
  }
 },
 "nbformat": 4,
 "nbformat_minor": 5
}
